{
  "nbformat": 4,
  "nbformat_minor": 0,
  "metadata": {
    "colab": {
      "name": "Decision Tree Regressor.ipynb",
      "provenance": [],
      "authorship_tag": "ABX9TyPYgtcA7OVaPvtu6DOBqsG4",
      "include_colab_link": true
    },
    "kernelspec": {
      "name": "python3",
      "display_name": "Python 3"
    },
    "language_info": {
      "name": "python"
    }
  },
  "cells": [
    {
      "cell_type": "markdown",
      "metadata": {
        "id": "view-in-github",
        "colab_type": "text"
      },
      "source": [
        "<a href=\"https://colab.research.google.com/github/somyamangla/SOMYAMANGLA/blob/main/Decision_Tree_Regressor.ipynb\" target=\"_parent\"><img src=\"https://colab.research.google.com/assets/colab-badge.svg\" alt=\"Open In Colab\"/></a>"
      ]
    },
    {
      "cell_type": "code",
      "metadata": {
        "id": "9dvUpcZcaZp7"
      },
      "source": [
        "import pandas as pd\n",
        "import numpy as np\n",
        "import matplotlib.pyplot as plt\n",
        "import seaborn as sns\n",
        "from sklearn.tree import DecisionTreeRegressor"
      ],
      "execution_count": null,
      "outputs": []
    },
    {
      "cell_type": "code",
      "metadata": {
        "id": "-1JQy_18bk8C"
      },
      "source": [
        "df = pd.read_csv('https://raw.githubusercontent.com/mk-gurucharan/Regression/master/IceCreamData.csv')"
      ],
      "execution_count": null,
      "outputs": []
    },
    {
      "cell_type": "code",
      "metadata": {
        "colab": {
          "base_uri": "https://localhost:8080/",
          "height": 206
        },
        "id": "z5uVxIxMbk5Y",
        "outputId": "4bf25c55-027a-4b1e-e699-0a2be7b12df2"
      },
      "source": [
        "df.head()"
      ],
      "execution_count": null,
      "outputs": [
        {
          "output_type": "execute_result",
          "data": {
            "text/html": [
              "<div>\n",
              "<style scoped>\n",
              "    .dataframe tbody tr th:only-of-type {\n",
              "        vertical-align: middle;\n",
              "    }\n",
              "\n",
              "    .dataframe tbody tr th {\n",
              "        vertical-align: top;\n",
              "    }\n",
              "\n",
              "    .dataframe thead th {\n",
              "        text-align: right;\n",
              "    }\n",
              "</style>\n",
              "<table border=\"1\" class=\"dataframe\">\n",
              "  <thead>\n",
              "    <tr style=\"text-align: right;\">\n",
              "      <th></th>\n",
              "      <th>Temperature</th>\n",
              "      <th>Revenue</th>\n",
              "    </tr>\n",
              "  </thead>\n",
              "  <tbody>\n",
              "    <tr>\n",
              "      <th>0</th>\n",
              "      <td>24.566884</td>\n",
              "      <td>534.799028</td>\n",
              "    </tr>\n",
              "    <tr>\n",
              "      <th>1</th>\n",
              "      <td>26.005191</td>\n",
              "      <td>625.190122</td>\n",
              "    </tr>\n",
              "    <tr>\n",
              "      <th>2</th>\n",
              "      <td>27.790554</td>\n",
              "      <td>660.632289</td>\n",
              "    </tr>\n",
              "    <tr>\n",
              "      <th>3</th>\n",
              "      <td>20.595335</td>\n",
              "      <td>487.706960</td>\n",
              "    </tr>\n",
              "    <tr>\n",
              "      <th>4</th>\n",
              "      <td>11.503498</td>\n",
              "      <td>316.240194</td>\n",
              "    </tr>\n",
              "  </tbody>\n",
              "</table>\n",
              "</div>"
            ],
            "text/plain": [
              "   Temperature     Revenue\n",
              "0    24.566884  534.799028\n",
              "1    26.005191  625.190122\n",
              "2    27.790554  660.632289\n",
              "3    20.595335  487.706960\n",
              "4    11.503498  316.240194"
            ]
          },
          "metadata": {},
          "execution_count": 3
        }
      ]
    },
    {
      "cell_type": "markdown",
      "metadata": {
        "id": "Din52O8Hbo-d"
      },
      "source": [
        "##PROBLEM STATEMENT\n",
        "In this data we have one independent variable that is temperature and one dependent that is revenue. Build a Decision Tree Regressor to study relationship between the varibles. This is the info about ice cream shop and thus predict the revenue for the ice cream shop on a particular temperature on that day"
      ]
    },
    {
      "cell_type": "code",
      "metadata": {
        "colab": {
          "base_uri": "https://localhost:8080/",
          "height": 300
        },
        "id": "KZ0OTepMcFus",
        "outputId": "413ea029-9f66-4651-a844-5d645446fc11"
      },
      "source": [
        "df.describe()"
      ],
      "execution_count": null,
      "outputs": [
        {
          "output_type": "execute_result",
          "data": {
            "text/html": [
              "<div>\n",
              "<style scoped>\n",
              "    .dataframe tbody tr th:only-of-type {\n",
              "        vertical-align: middle;\n",
              "    }\n",
              "\n",
              "    .dataframe tbody tr th {\n",
              "        vertical-align: top;\n",
              "    }\n",
              "\n",
              "    .dataframe thead th {\n",
              "        text-align: right;\n",
              "    }\n",
              "</style>\n",
              "<table border=\"1\" class=\"dataframe\">\n",
              "  <thead>\n",
              "    <tr style=\"text-align: right;\">\n",
              "      <th></th>\n",
              "      <th>Temperature</th>\n",
              "      <th>Revenue</th>\n",
              "    </tr>\n",
              "  </thead>\n",
              "  <tbody>\n",
              "    <tr>\n",
              "      <th>count</th>\n",
              "      <td>500.000000</td>\n",
              "      <td>500.000000</td>\n",
              "    </tr>\n",
              "    <tr>\n",
              "      <th>mean</th>\n",
              "      <td>22.232225</td>\n",
              "      <td>521.570777</td>\n",
              "    </tr>\n",
              "    <tr>\n",
              "      <th>std</th>\n",
              "      <td>8.096388</td>\n",
              "      <td>175.404751</td>\n",
              "    </tr>\n",
              "    <tr>\n",
              "      <th>min</th>\n",
              "      <td>0.000000</td>\n",
              "      <td>10.000000</td>\n",
              "    </tr>\n",
              "    <tr>\n",
              "      <th>25%</th>\n",
              "      <td>17.122258</td>\n",
              "      <td>405.558681</td>\n",
              "    </tr>\n",
              "    <tr>\n",
              "      <th>50%</th>\n",
              "      <td>22.392791</td>\n",
              "      <td>529.368565</td>\n",
              "    </tr>\n",
              "    <tr>\n",
              "      <th>75%</th>\n",
              "      <td>27.740674</td>\n",
              "      <td>642.257922</td>\n",
              "    </tr>\n",
              "    <tr>\n",
              "      <th>max</th>\n",
              "      <td>45.000000</td>\n",
              "      <td>1000.000000</td>\n",
              "    </tr>\n",
              "  </tbody>\n",
              "</table>\n",
              "</div>"
            ],
            "text/plain": [
              "       Temperature      Revenue\n",
              "count   500.000000   500.000000\n",
              "mean     22.232225   521.570777\n",
              "std       8.096388   175.404751\n",
              "min       0.000000    10.000000\n",
              "25%      17.122258   405.558681\n",
              "50%      22.392791   529.368565\n",
              "75%      27.740674   642.257922\n",
              "max      45.000000  1000.000000"
            ]
          },
          "metadata": {},
          "execution_count": 4
        }
      ]
    },
    {
      "cell_type": "code",
      "metadata": {
        "colab": {
          "base_uri": "https://localhost:8080/"
        },
        "id": "Wk07POc_cXUF",
        "outputId": "862a75d4-4077-43ed-efb9-23c6e80f1ba1"
      },
      "source": [
        "df.info()"
      ],
      "execution_count": null,
      "outputs": [
        {
          "output_type": "stream",
          "name": "stdout",
          "text": [
            "<class 'pandas.core.frame.DataFrame'>\n",
            "RangeIndex: 500 entries, 0 to 499\n",
            "Data columns (total 2 columns):\n",
            " #   Column       Non-Null Count  Dtype  \n",
            "---  ------       --------------  -----  \n",
            " 0   Temperature  500 non-null    float64\n",
            " 1   Revenue      500 non-null    float64\n",
            "dtypes: float64(2)\n",
            "memory usage: 7.9 KB\n"
          ]
        }
      ]
    },
    {
      "cell_type": "code",
      "metadata": {
        "colab": {
          "base_uri": "https://localhost:8080/"
        },
        "id": "QoXmqvx9cXQq",
        "outputId": "0e051dfc-ea71-4dab-8dd9-ace8f6f6142d"
      },
      "source": [
        "df.isnull().sum()"
      ],
      "execution_count": null,
      "outputs": [
        {
          "output_type": "execute_result",
          "data": {
            "text/plain": [
              "Temperature    0\n",
              "Revenue        0\n",
              "dtype: int64"
            ]
          },
          "metadata": {},
          "execution_count": 6
        }
      ]
    },
    {
      "cell_type": "code",
      "metadata": {
        "colab": {
          "base_uri": "https://localhost:8080/",
          "height": 424
        },
        "id": "Tu3BJIyOcXNC",
        "outputId": "cffd5875-766f-41b3-b6fe-f935e8241588"
      },
      "source": [
        "df.isnull()"
      ],
      "execution_count": null,
      "outputs": [
        {
          "output_type": "execute_result",
          "data": {
            "text/html": [
              "<div>\n",
              "<style scoped>\n",
              "    .dataframe tbody tr th:only-of-type {\n",
              "        vertical-align: middle;\n",
              "    }\n",
              "\n",
              "    .dataframe tbody tr th {\n",
              "        vertical-align: top;\n",
              "    }\n",
              "\n",
              "    .dataframe thead th {\n",
              "        text-align: right;\n",
              "    }\n",
              "</style>\n",
              "<table border=\"1\" class=\"dataframe\">\n",
              "  <thead>\n",
              "    <tr style=\"text-align: right;\">\n",
              "      <th></th>\n",
              "      <th>Temperature</th>\n",
              "      <th>Revenue</th>\n",
              "    </tr>\n",
              "  </thead>\n",
              "  <tbody>\n",
              "    <tr>\n",
              "      <th>0</th>\n",
              "      <td>False</td>\n",
              "      <td>False</td>\n",
              "    </tr>\n",
              "    <tr>\n",
              "      <th>1</th>\n",
              "      <td>False</td>\n",
              "      <td>False</td>\n",
              "    </tr>\n",
              "    <tr>\n",
              "      <th>2</th>\n",
              "      <td>False</td>\n",
              "      <td>False</td>\n",
              "    </tr>\n",
              "    <tr>\n",
              "      <th>3</th>\n",
              "      <td>False</td>\n",
              "      <td>False</td>\n",
              "    </tr>\n",
              "    <tr>\n",
              "      <th>4</th>\n",
              "      <td>False</td>\n",
              "      <td>False</td>\n",
              "    </tr>\n",
              "    <tr>\n",
              "      <th>...</th>\n",
              "      <td>...</td>\n",
              "      <td>...</td>\n",
              "    </tr>\n",
              "    <tr>\n",
              "      <th>495</th>\n",
              "      <td>False</td>\n",
              "      <td>False</td>\n",
              "    </tr>\n",
              "    <tr>\n",
              "      <th>496</th>\n",
              "      <td>False</td>\n",
              "      <td>False</td>\n",
              "    </tr>\n",
              "    <tr>\n",
              "      <th>497</th>\n",
              "      <td>False</td>\n",
              "      <td>False</td>\n",
              "    </tr>\n",
              "    <tr>\n",
              "      <th>498</th>\n",
              "      <td>False</td>\n",
              "      <td>False</td>\n",
              "    </tr>\n",
              "    <tr>\n",
              "      <th>499</th>\n",
              "      <td>False</td>\n",
              "      <td>False</td>\n",
              "    </tr>\n",
              "  </tbody>\n",
              "</table>\n",
              "<p>500 rows × 2 columns</p>\n",
              "</div>"
            ],
            "text/plain": [
              "     Temperature  Revenue\n",
              "0          False    False\n",
              "1          False    False\n",
              "2          False    False\n",
              "3          False    False\n",
              "4          False    False\n",
              "..           ...      ...\n",
              "495        False    False\n",
              "496        False    False\n",
              "497        False    False\n",
              "498        False    False\n",
              "499        False    False\n",
              "\n",
              "[500 rows x 2 columns]"
            ]
          },
          "metadata": {},
          "execution_count": 7
        }
      ]
    },
    {
      "cell_type": "code",
      "metadata": {
        "colab": {
          "base_uri": "https://localhost:8080/"
        },
        "id": "aghfw_F0cvGu",
        "outputId": "6c577993-3ddb-4af3-fc8e-2058e2ca1f3d"
      },
      "source": [
        "df.isnull().sum().sum()"
      ],
      "execution_count": null,
      "outputs": [
        {
          "output_type": "execute_result",
          "data": {
            "text/plain": [
              "0"
            ]
          },
          "metadata": {},
          "execution_count": 8
        }
      ]
    },
    {
      "cell_type": "code",
      "metadata": {
        "colab": {
          "base_uri": "https://localhost:8080/",
          "height": 312
        },
        "id": "LSMLFkHScvDv",
        "outputId": "ef7c3359-3d0a-4abb-f2f4-4b106eaa9346"
      },
      "source": [
        "plt.scatter(df.Temperature,df.Revenue)\n",
        "plt.xlabel('Temperature')\n",
        "plt.ylabel('Revenue')\n",
        "plt.title('Temperature vs Revenue')"
      ],
      "execution_count": null,
      "outputs": [
        {
          "output_type": "execute_result",
          "data": {
            "text/plain": [
              "Text(0.5, 1.0, 'Temperature vs Revenue')"
            ]
          },
          "metadata": {},
          "execution_count": 10
        },
        {
          "output_type": "display_data",
          "data": {
            "image/png": "[encoded data removed]",
            "text/plain": [
              "<Figure size 432x288 with 1 Axes>"
            ]
          },
          "metadata": {
            "needs_background": "light"
          }
        }
      ]
    },
    {
      "cell_type": "code",
      "metadata": {
        "colab": {
          "base_uri": "https://localhost:8080/",
          "height": 286
        },
        "id": "6PyzE6vuczmT",
        "outputId": "3c294c7f-b13e-4f3b-b214-ad5e1c7528f5"
      },
      "source": [
        "sns.heatmap(df.corr(), annot=True, cmap='Blues')"
      ],
      "execution_count": null,
      "outputs": [
        {
          "output_type": "execute_result",
          "data": {
            "text/plain": [
              "<matplotlib.axes._subplots.AxesSubplot at 0x7f95ee9a64d0>"
            ]
          },
          "metadata": {},
          "execution_count": 11
        },
        {
          "output_type": "display_data",
          "data": {
            "image/png": "[encoded data removed]",
            "text/plain": [
              "<Figure size 432x288 with 2 Axes>"
            ]
          },
          "metadata": {
            "needs_background": "light"
          }
        }
      ]
    },
    {
      "cell_type": "markdown",
      "metadata": {
        "id": "JmvNnUUvdgLR"
      },
      "source": [
        "Some outliers must be there"
      ]
    },
    {
      "cell_type": "code",
      "metadata": {
        "colab": {
          "base_uri": "https://localhost:8080/",
          "height": 609
        },
        "id": "XDB3Ynxzczjn",
        "outputId": "f1ebd58c-1cba-4b04-bc77-b9b4a9ae9618"
      },
      "source": [
        "plt.figure(figsize=(10,10))\n",
        "df.boxplot()"
      ],
      "execution_count": null,
      "outputs": [
        {
          "output_type": "execute_result",
          "data": {
            "text/plain": [
              "<matplotlib.axes._subplots.AxesSubplot at 0x7f95e6921390>"
            ]
          },
          "metadata": {},
          "execution_count": 13
        },
        {
          "output_type": "display_data",
          "data": {
            "image/png": "[encoded data removed]",
            "text/plain": [
              "<Figure size 720x720 with 1 Axes>"
            ]
          },
          "metadata": {
            "needs_background": "light"
          }
        }
      ]
    },
    {
      "cell_type": "code",
      "metadata": {
        "id": "MZPV-1Meczgy"
      },
      "source": [
        "##can treat outliers but not necessary"
      ],
      "execution_count": null,
      "outputs": []
    },
    {
      "cell_type": "markdown",
      "metadata": {
        "id": "c1kg-qG-d6WG"
      },
      "source": [
        "Feature scaling"
      ]
    },
    {
      "cell_type": "code",
      "metadata": {
        "id": "H4jpUsXkcvBR"
      },
      "source": [
        "x=np.array(df.Temperature.values)\n",
        "y=np.array(df.Revenue.values)"
      ],
      "execution_count": null,
      "outputs": []
    },
    {
      "cell_type": "code",
      "metadata": {
        "id": "z_f7bHigcu-k"
      },
      "source": [
        "from sklearn.preprocessing import StandardScaler\n",
        "stanscale=StandardScaler()\n",
        "x=stanscale.fit_transform(x.reshape(-1,1))\n",
        "y=stanscale.fit_transform(y.reshape(-1,1))"
      ],
      "execution_count": null,
      "outputs": []
    },
    {
      "cell_type": "markdown",
      "metadata": {
        "id": "57qAK-OCet_n"
      },
      "source": [
        "train test split"
      ]
    },
    {
      "cell_type": "code",
      "metadata": {
        "id": "hawnEReWev4K"
      },
      "source": [
        "from sklearn.model_selection import train_test_split\n"
      ],
      "execution_count": null,
      "outputs": []
    },
    {
      "cell_type": "code",
      "metadata": {
        "id": "0oGyayU1esBB"
      },
      "source": [
        "x_train,x_test,y_train,y_test=train_test_split(x,y,test_size=0.2)"
      ],
      "execution_count": null,
      "outputs": []
    },
    {
      "cell_type": "code",
      "metadata": {
        "colab": {
          "base_uri": "https://localhost:8080/"
        },
        "id": "vDraJmSRer94",
        "outputId": "825b7eeb-4be2-4c3a-8fb7-46e33378beda"
      },
      "source": [
        "len(x_test)== len(y_test)"
      ],
      "execution_count": null,
      "outputs": [
        {
          "output_type": "execute_result",
          "data": {
            "text/plain": [
              "True"
            ]
          },
          "metadata": {},
          "execution_count": 18
        }
      ]
    },
    {
      "cell_type": "code",
      "metadata": {
        "id": "ta6qnpb5er4l"
      },
      "source": [
        "regressor=DecisionTreeRegressor()"
      ],
      "execution_count": null,
      "outputs": []
    },
    {
      "cell_type": "code",
      "metadata": {
        "colab": {
          "base_uri": "https://localhost:8080/"
        },
        "id": "uXUelZBBer11",
        "outputId": "cb7e4ac8-0be8-4e09-b0c7-e14cc76de6ae"
      },
      "source": [
        "#train model\n",
        "regressor.fit(x_train,y_train)"
      ],
      "execution_count": null,
      "outputs": [
        {
          "output_type": "execute_result",
          "data": {
            "text/plain": [
              "DecisionTreeRegressor(ccp_alpha=0.0, criterion='mse', max_depth=None,\n",
              "                      max_features=None, max_leaf_nodes=None,\n",
              "                      min_impurity_decrease=0.0, min_impurity_split=None,\n",
              "                      min_samples_leaf=1, min_samples_split=2,\n",
              "                      min_weight_fraction_leaf=0.0, presort='deprecated',\n",
              "                      random_state=None, splitter='best')"
            ]
          },
          "metadata": {},
          "execution_count": 20
        }
      ]
    },
    {
      "cell_type": "code",
      "metadata": {
        "id": "q8ROTc4Qery3"
      },
      "source": [
        "y_pred=regressor.predict(x_test)"
      ],
      "execution_count": null,
      "outputs": []
    },
    {
      "cell_type": "code",
      "metadata": {
        "colab": {
          "base_uri": "https://localhost:8080/"
        },
        "id": "J7VfhX-WerwU",
        "outputId": "1c62bcfa-7dad-4132-e736-1b0bd7482611"
      },
      "source": [
        "y_pred"
      ],
      "execution_count": null,
      "outputs": [
        {
          "output_type": "execute_result",
          "data": {
            "text/plain": [
              "array([ 0.88032182,  0.74354455, -0.21821526, -1.74278724, -2.29846677,\n",
              "        2.5333798 , -1.13384029, -1.54905095, -1.59410918,  0.82501096,\n",
              "       -1.8594786 , -0.26269909,  0.93639544,  0.21437683, -0.74854753,\n",
              "       -1.35759931, -0.74854753, -0.33387782,  1.04269495,  0.25283576,\n",
              "       -0.29482373,  0.538471  , -0.71126894, -1.35759931, -1.35759931,\n",
              "        0.44346191,  0.12571426,  1.44013609,  0.32408777, -0.10549898,\n",
              "        0.16255527,  0.46522257,  0.0924237 ,  2.15280627, -0.66002458,\n",
              "        0.75687491,  1.29197884,  0.76001397,  1.23398369,  0.78200228,\n",
              "        0.03735371,  1.23398369, -0.78533995,  0.96569786, -0.14586309,\n",
              "       -0.27394206,  2.5333798 , -1.59254752, -0.41716459, -0.59027527,\n",
              "        1.01239389, -0.15899424, -1.00943195,  0.12005583,  0.00886707,\n",
              "       -1.06006892,  0.36854457, -0.68009371,  1.44013609, -1.29912314,\n",
              "        0.11075054,  0.68170472,  0.82236209,  0.058048  ,  0.03735371,\n",
              "       -0.26720072,  0.96569786, -1.54905095, -0.72705984,  0.79359756,\n",
              "       -1.17178252,  0.058048  ,  0.25283576, -0.78109879,  0.11255475,\n",
              "        0.3549008 , -0.24523455,  0.67321654,  1.59009814, -0.41716459,\n",
              "       -1.06795554,  1.69243778, -0.67784116, -0.47790002,  0.00886707,\n",
              "        1.59009814, -0.43796325, -0.66002458,  0.58225484, -0.68009371,\n",
              "        0.28456138,  1.01239389,  1.48629159, -0.59474051,  0.76085569,\n",
              "        0.57295473, -0.55104244,  0.14337264, -0.15899424, -0.3934529 ])"
            ]
          },
          "metadata": {},
          "execution_count": 22
        }
      ]
    },
    {
      "cell_type": "code",
      "metadata": {
        "colab": {
          "base_uri": "https://localhost:8080/",
          "height": 297
        },
        "id": "8Gq0XqE_fnMp",
        "outputId": "b698d715-884a-434a-9f16-26af671da664"
      },
      "source": [
        "plt.scatter(x_test,y_test, color='red')\n",
        "plt.scatter(x_test,y_pred, color='green')\n",
        "plt.xlabel('x_test')\n",
        "plt.ylabel('actual in red and pred in green')"
      ],
      "execution_count": null,
      "outputs": [
        {
          "output_type": "execute_result",
          "data": {
            "text/plain": [
              "Text(0, 0.5, 'actual in red and pred in green')"
            ]
          },
          "metadata": {},
          "execution_count": 23
        },
        {
          "output_type": "display_data",
          "data": {
            "image/png": "[encoded data removed]",
            "text/plain": [
              "<Figure size 432x288 with 1 Axes>"
            ]
          },
          "metadata": {
            "needs_background": "light"
          }
        }
      ]
    },
    {
      "cell_type": "code",
      "metadata": {
        "id": "-3khaPRNfnJ4"
      },
      "source": [
        "from sklearn.metrics import r2_score,mean_squared_error,mean_absolute_error\n"
      ],
      "execution_count": null,
      "outputs": []
    },
    {
      "cell_type": "code",
      "metadata": {
        "colab": {
          "base_uri": "https://localhost:8080/"
        },
        "id": "7QdZpKtgfnHT",
        "outputId": "84100dee-c76d-48ed-870a-7752910b2ddf"
      },
      "source": [
        "r2_score(y_test,y_pred)"
      ],
      "execution_count": null,
      "outputs": [
        {
          "output_type": "execute_result",
          "data": {
            "text/plain": [
              "0.9586915982529739"
            ]
          },
          "metadata": {},
          "execution_count": 26
        }
      ]
    },
    {
      "cell_type": "code",
      "metadata": {
        "id": "GQK-y35dfnEz"
      },
      "source": [
        ""
      ],
      "execution_count": null,
      "outputs": []
    }
  ]
}